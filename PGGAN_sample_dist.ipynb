{
 "cells": [
  {
   "cell_type": "code",
   "execution_count": 1,
   "id": "3fb041eb-296d-4a79-a650-f96f5f518c79",
   "metadata": {},
   "outputs": [
    {
     "name": "stdout",
     "output_type": "stream",
     "text": [
      "1.4.0\n"
     ]
    }
   ],
   "source": [
    "import torch\n",
    "import torch.nn as nn\n",
    "from torch.utils.data import Dataset\n",
    "from torch.utils.data import DataLoader\n",
    "from matplotlib import pyplot as plt\n",
    "import numpy as np\n",
    "print(torch.__version__)"
   ]
  },
  {
   "cell_type": "markdown",
   "id": "bc0c5285-8d47-4aba-afdf-289bce8cfaf4",
   "metadata": {},
   "source": [
    "config"
   ]
  },
  {
   "cell_type": "code",
   "execution_count": 2,
   "id": "da292c12-b9af-4b6a-ba70-0955ec7e96d0",
   "metadata": {},
   "outputs": [],
   "source": [
    "# we assume all r are 0\n",
    "i_dim = 5\n",
    "o_dim = 5\n",
    "h_dim = 10\n",
    "LR_D = 1e-3\n",
    "LR_G = 1e-3\n",
    "LR_A = 1e-4\n",
    "r_dim = 2 * o_dim\n",
    "n_samples = 100000\n",
    "n_steps = 10000\n",
    "batch_size = 100\n",
    "alpha = 0.00"
   ]
  },
  {
   "cell_type": "markdown",
   "id": "1a532d63-e8d9-4862-91a7-9bf129338c5b",
   "metadata": {},
   "source": [
    "networks"
   ]
  },
  {
   "cell_type": "code",
   "execution_count": 3,
   "id": "bb235bea-7446-40c5-a3ec-274be68daeda",
   "metadata": {},
   "outputs": [],
   "source": [
    "G = nn.Sequential(                      # Generator\n",
    "    nn.Linear(i_dim, h_dim),            # random ideas (could from normal distribution)\n",
    "    nn.ReLU(inplace=False),\n",
    "    nn.Linear(h_dim, h_dim),    \n",
    "    nn.ReLU(inplace=False),\n",
    "    nn.Linear(h_dim, o_dim),     \n",
    ")"
   ]
  },
  {
   "cell_type": "code",
   "execution_count": 4,
   "id": "72100600-9a4d-4e67-93ec-68a1ed8861c5",
   "metadata": {},
   "outputs": [],
   "source": [
    "D = nn.Sequential(                      # Discriminator\n",
    "    nn.Linear(o_dim, 2*o_dim),     # receive art work either from the famous artist or a newbie like G\n",
    "    nn.ReLU(inplace=False),\n",
    "    nn.Linear(2*o_dim, 1),\n",
    "    nn.Sigmoid(),                       # tell the probability that the art work is made by artist\n",
    ")"
   ]
  },
  {
   "cell_type": "code",
   "execution_count": 5,
   "id": "6cd09468-e070-4d60-bb57-72ea97ddedb5",
   "metadata": {},
   "outputs": [],
   "source": [
    "A = nn.Sequential(\n",
    "    nn.Linear(o_dim, h_dim),\n",
    "    nn.ReLU(inplace=False),\n",
    "    nn.Linear(h_dim, h_dim),\n",
    "    nn.ReLU(inplace=False),\n",
    "    nn.Linear(h_dim, r_dim),\n",
    ")"
   ]
  },
  {
   "cell_type": "markdown",
   "id": "49db078d-d03c-49b8-8ddf-8c643bca4254",
   "metadata": {},
   "source": [
    "optimizer"
   ]
  },
  {
   "cell_type": "code",
   "execution_count": 6,
   "id": "dc15e981-4254-4801-b631-8b17d2b5db84",
   "metadata": {},
   "outputs": [],
   "source": [
    "opt_D = torch.optim.Adam(D.parameters(), lr=LR_D)\n",
    "opt_G = torch.optim.Adam(G.parameters(), lr=LR_G)\n",
    "opt_A = torch.optim.Adam(A.parameters(), lr=LR_A)"
   ]
  },
  {
   "cell_type": "markdown",
   "id": "3737aeee-8544-4274-8a24-b44a2b503af3",
   "metadata": {},
   "source": [
    "Dataset"
   ]
  },
  {
   "cell_type": "code",
   "execution_count": 7,
   "id": "7cb14946-e963-4548-bcbe-8e350835ecea",
   "metadata": {},
   "outputs": [],
   "source": [
    "m = torch.distributions.multivariate_normal.MultivariateNormal(torch.zeros(o_dim), torch.eye(o_dim))"
   ]
  },
  {
   "cell_type": "code",
   "execution_count": 8,
   "id": "9bc48be8-9b95-4785-af3d-fba15a732c05",
   "metadata": {},
   "outputs": [],
   "source": [
    "samples = []\n",
    "for i in range(n_samples):\n",
    "    samples.append(torch.abs(m.sample()))\n",
    "samples = torch.stack(samples)"
   ]
  },
  {
   "cell_type": "code",
   "execution_count": 9,
   "id": "a28152b4-2768-4524-a421-fdb4ba74296b",
   "metadata": {},
   "outputs": [
    {
     "data": {
      "text/plain": [
       "torch.Size([100000, 5])"
      ]
     },
     "execution_count": 9,
     "metadata": {},
     "output_type": "execute_result"
    }
   ],
   "source": [
    "samples.size()"
   ]
  },
  {
   "cell_type": "code",
   "execution_count": 10,
   "id": "b29590c5-7ede-4d75-88f9-79e600e9056f",
   "metadata": {},
   "outputs": [],
   "source": [
    "class MultivariateNormalDataset(Dataset):\n",
    "    def __init__(self, samples):\n",
    "        self.samples = samples\n",
    "\n",
    "    def __len__(self):\n",
    "        return len(self.samples)\n",
    "\n",
    "    def __getitem__(self, idx):\n",
    "        sample = self.samples[idx]\n",
    "        return sample"
   ]
  },
  {
   "cell_type": "code",
   "execution_count": 11,
   "id": "2b7118a1-a5fa-4b27-ab77-a71411d5a239",
   "metadata": {},
   "outputs": [],
   "source": [
    "train_dataset = MultivariateNormalDataset(samples)\n",
    "train_dataloader = DataLoader(train_dataset, batch_size=batch_size, shuffle=True)"
   ]
  },
  {
   "cell_type": "markdown",
   "id": "8a7e89f7-3c3d-4a75-835b-37df388ef608",
   "metadata": {},
   "source": [
    "training"
   ]
  },
  {
   "cell_type": "code",
   "execution_count": 12,
   "id": "9b534aba-31e8-4b15-a8d3-c0bc43075220",
   "metadata": {},
   "outputs": [],
   "source": [
    "def pick_samples(samples, u):\n",
    "    flag_list = []\n",
    "#     print(samples.size())\n",
    "    for i in range(len(u)):\n",
    "        flag = samples[:,i] > u[i]\n",
    "        flag_list.append(flag)\n",
    "#         print(flag)\n",
    "\n",
    "    flags = torch.stack(flag_list, dim=1)\n",
    "    \n",
    "#     print('flags', flags.size())\n",
    "    \n",
    "    flags.max()\n",
    "        \n",
    "    \n",
    "        \n",
    "    total_flag = samples[:,0] < -np.inf\n",
    "    \n",
    "    for i in range(len(u)):\n",
    "        total_flag = total_flag | flag_list[i]\n",
    "        \n",
    "#     print(total_flag)\n",
    "        \n",
    "    return samples[total_flag,:]"
   ]
  },
  {
   "cell_type": "code",
   "execution_count": 13,
   "id": "1dab6605-4391-401c-8d0b-223d24167157",
   "metadata": {},
   "outputs": [
    {
     "name": "stdout",
     "output_type": "stream",
     "text": [
      "tensor([1., 1., 1., 1., 1., 1., 1., 1., 1., 1.])\n",
      "n_extremes size 1340\n",
      "0th step, parameters are tensor([0.9990, 0.9990, 0.9991, 0.9991, 0.9993, 0.9991, 0.9993, 0.9993, 0.9993,\n",
      "        0.9990], grad_fn=<AddBackward0>)\n",
      "n_extremes size 1785\n",
      "100th step, parameters are tensor([0.9072, 0.9069, 0.9084, 0.9154, 0.9348, 0.9144, 0.9278, 0.9324, 0.9298,\n",
      "        0.9082], grad_fn=<AddBackward0>)\n",
      "n_extremes size 2271\n",
      "200th step, parameters are tensor([0.8267, 0.8263, 0.8325, 0.8432, 0.8735, 0.8399, 0.8548, 0.8758, 0.8691,\n",
      "        0.8345], grad_fn=<AddBackward0>)\n",
      "n_extremes size 2796\n",
      "300th step, parameters are tensor([0.7551, 0.7502, 0.7708, 0.7742, 0.8153, 0.7699, 0.7859, 0.8218, 0.8044,\n",
      "        0.7846], grad_fn=<AddBackward0>)\n",
      "n_extremes size 3353\n",
      "400th step, parameters are tensor([0.6907, 0.6808, 0.7171, 0.7105, 0.7596, 0.7028, 0.7205, 0.7755, 0.7386,\n",
      "        0.7428], grad_fn=<AddBackward0>)\n",
      "n_extremes size 3942\n",
      "500th step, parameters are tensor([0.6320, 0.6192, 0.6581, 0.6499, 0.7144, 0.6426, 0.6705, 0.7286, 0.6773,\n",
      "        0.6917], grad_fn=<AddBackward0>)\n",
      "n_extremes size 4613\n",
      "600th step, parameters are tensor([0.5794, 0.5654, 0.6031, 0.5945, 0.6760, 0.5888, 0.6265, 0.6780, 0.6207,\n",
      "        0.6410], grad_fn=<AddBackward0>)\n",
      "n_extremes size 5233\n",
      "700th step, parameters are tensor([0.5314, 0.5192, 0.5511, 0.5560, 0.6440, 0.5479, 0.5774, 0.6286, 0.5844,\n",
      "        0.5886], grad_fn=<AddBackward0>)\n",
      "n_extremes size 5817\n",
      "800th step, parameters are tensor([0.4873, 0.4792, 0.5050, 0.5231, 0.6147, 0.5099, 0.5306, 0.5851, 0.5534,\n",
      "        0.5389], grad_fn=<AddBackward0>)\n",
      "n_extremes size 6423\n",
      "900th step, parameters are tensor([0.4459, 0.4421, 0.4640, 0.4916, 0.5877, 0.4748, 0.4877, 0.5486, 0.5230,\n",
      "        0.4927], grad_fn=<AddBackward0>)\n",
      "n_extremes size 7063\n",
      "1000th step, parameters are tensor([0.4062, 0.4077, 0.4293, 0.4602, 0.5610, 0.4433, 0.4481, 0.5266, 0.4910,\n",
      "        0.4510], grad_fn=<AddBackward0>)\n",
      "n_extremes size 7699\n",
      "1100th step, parameters are tensor([0.3697, 0.3769, 0.4017, 0.4301, 0.5323, 0.4150, 0.4121, 0.5229, 0.4575,\n",
      "        0.4142], grad_fn=<AddBackward0>)\n",
      "n_extremes size 8272\n",
      "1200th step, parameters are tensor([0.3371, 0.3486, 0.3802, 0.4015, 0.5043, 0.3861, 0.3796, 0.5235, 0.4229,\n",
      "        0.3806], grad_fn=<AddBackward0>)\n",
      "n_extremes size 8859\n",
      "1300th step, parameters are tensor([0.3069, 0.3216, 0.3642, 0.3701, 0.4843, 0.3544, 0.3489, 0.5004, 0.3868,\n",
      "        0.3509], grad_fn=<AddBackward0>)\n",
      "n_extremes size 9386\n",
      "1400th step, parameters are tensor([0.2796, 0.2986, 0.3498, 0.3406, 0.4691, 0.3259, 0.3217, 0.4710, 0.3542,\n",
      "        0.3248], grad_fn=<AddBackward0>)\n",
      "n_extremes size 9939\n",
      "1500th step, parameters are tensor([0.2548, 0.2799, 0.3257, 0.3117, 0.4602, 0.3026, 0.3064, 0.4418, 0.3255,\n",
      "        0.3030], grad_fn=<AddBackward0>)\n",
      "n_extremes size 10495\n",
      "1600th step, parameters are tensor([0.2325, 0.2634, 0.3011, 0.2852, 0.4544, 0.2872, 0.2956, 0.4122, 0.3001,\n",
      "        0.2849], grad_fn=<AddBackward0>)\n",
      "n_extremes size 10981\n",
      "1700th step, parameters are tensor([0.2123, 0.2479, 0.2787, 0.2620, 0.4511, 0.2789, 0.2849, 0.3824, 0.2782,\n",
      "        0.2696], grad_fn=<AddBackward0>)\n",
      "n_extremes size 11396\n",
      "1800th step, parameters are tensor([0.1943, 0.2338, 0.2596, 0.2418, 0.4501, 0.2753, 0.2729, 0.3520, 0.2593,\n",
      "        0.2574], grad_fn=<AddBackward0>)\n",
      "n_extremes size 11776\n",
      "1900th step, parameters are tensor([0.1783, 0.2211, 0.2447, 0.2248, 0.4512, 0.2745, 0.2586, 0.3229, 0.2430,\n",
      "        0.2484], grad_fn=<AddBackward0>)\n",
      "n_extremes size 12069\n",
      "2000th step, parameters are tensor([0.1640, 0.2095, 0.2337, 0.2106, 0.4541, 0.2751, 0.2425, 0.2998, 0.2297,\n",
      "        0.2424], grad_fn=<AddBackward0>)\n",
      "n_extremes size 12385\n",
      "2100th step, parameters are tensor([0.1509, 0.1971, 0.2249, 0.1992, 0.4507, 0.2684, 0.2259, 0.2812, 0.2173,\n",
      "        0.2325], grad_fn=<AddBackward0>)\n",
      "n_extremes size 12638\n",
      "2200th step, parameters are tensor([0.1388, 0.1851, 0.2231, 0.1892, 0.4348, 0.2482, 0.2121, 0.2814, 0.2005,\n",
      "        0.2173], grad_fn=<AddBackward0>)\n",
      "n_extremes size 12897\n",
      "2300th step, parameters are tensor([0.1282, 0.1745, 0.2260, 0.1805, 0.4160, 0.2300, 0.2037, 0.2908, 0.1879,\n",
      "        0.2034], grad_fn=<AddBackward0>)\n",
      "n_extremes size 13020\n",
      "2400th step, parameters are tensor([0.1277, 0.1665, 0.2327, 0.1702, 0.4087, 0.2130, 0.1996, 0.2933, 0.1854,\n",
      "        0.2144], grad_fn=<AddBackward0>)\n",
      "n_extremes size 13121\n",
      "2500th step, parameters are tensor([0.1274, 0.1605, 0.2392, 0.1594, 0.4038, 0.1974, 0.1951, 0.2896, 0.1876,\n",
      "        0.2255], grad_fn=<AddBackward0>)\n",
      "n_extremes size 13282\n",
      "2600th step, parameters are tensor([0.1209, 0.1546, 0.2449, 0.1491, 0.3935, 0.1852, 0.1900, 0.2870, 0.1912,\n",
      "        0.2208], grad_fn=<AddBackward0>)\n",
      "n_extremes size 13461\n",
      "2700th step, parameters are tensor([0.1119, 0.1492, 0.2507, 0.1394, 0.3812, 0.1757, 0.1851, 0.2803, 0.1962,\n",
      "        0.2075], grad_fn=<AddBackward0>)\n",
      "n_extremes size 13596\n",
      "2800th step, parameters are tensor([0.1054, 0.1454, 0.2549, 0.1300, 0.3720, 0.1647, 0.1768, 0.2637, 0.2017,\n",
      "        0.1938], grad_fn=<AddBackward0>)\n",
      "n_extremes size 13697\n",
      "2900th step, parameters are tensor([0.1010, 0.1446, 0.2589, 0.1208, 0.3649, 0.1550, 0.1651, 0.2452, 0.2116,\n",
      "        0.1816], grad_fn=<AddBackward0>)\n",
      "n_extremes size 13814\n",
      "3000th step, parameters are tensor([0.0968, 0.1453, 0.2631, 0.1125, 0.3595, 0.1460, 0.1538, 0.2277, 0.2220,\n",
      "        0.1705], grad_fn=<AddBackward0>)\n",
      "n_extremes size 13904\n",
      "3100th step, parameters are tensor([0.0914, 0.1462, 0.2659, 0.1051, 0.3555, 0.1374, 0.1435, 0.2122, 0.2290,\n",
      "        0.1611], grad_fn=<AddBackward0>)\n",
      "n_extremes size 14016\n",
      "3200th step, parameters are tensor([0.0848, 0.1458, 0.2634, 0.0983, 0.3552, 0.1297, 0.1336, 0.2001, 0.2256,\n",
      "        0.1579], grad_fn=<AddBackward0>)\n",
      "n_extremes size 14089\n",
      "3300th step, parameters are tensor([0.0808, 0.1461, 0.2581, 0.0921, 0.3605, 0.1253, 0.1249, 0.1873, 0.2158,\n",
      "        0.1635], grad_fn=<AddBackward0>)\n",
      "n_extremes size 14162\n",
      "3400th step, parameters are tensor([0.0767, 0.1467, 0.2533, 0.0866, 0.3657, 0.1212, 0.1172, 0.1751, 0.2064,\n",
      "        0.1685], grad_fn=<AddBackward0>)\n",
      "n_extremes size 14263\n",
      "3500th step, parameters are tensor([0.0718, 0.1458, 0.2511, 0.0815, 0.3653, 0.1149, 0.1100, 0.1640, 0.2007,\n",
      "        0.1640], grad_fn=<AddBackward0>)\n",
      "n_extremes size 14328\n",
      "3600th step, parameters are tensor([0.0713, 0.1430, 0.2587, 0.0771, 0.3541, 0.1130, 0.1091, 0.1538, 0.2092,\n",
      "        0.1581], grad_fn=<AddBackward0>)\n",
      "n_extremes size 14372\n",
      "3700th step, parameters are tensor([0.0731, 0.1396, 0.2778, 0.0738, 0.3364, 0.1204, 0.1234, 0.1448, 0.2329,\n",
      "        0.1627], grad_fn=<AddBackward0>)\n",
      "n_extremes size 14392\n",
      "3800th step, parameters are tensor([0.0742, 0.1357, 0.2993, 0.0723, 0.3196, 0.1292, 0.1451, 0.1387, 0.2558,\n",
      "        0.1683], grad_fn=<AddBackward0>)\n",
      "n_extremes size 14386\n",
      "3900th step, parameters are tensor([0.0755, 0.1319, 0.3152, 0.0716, 0.3061, 0.1338, 0.1607, 0.1337, 0.2699,\n",
      "        0.1721], grad_fn=<AddBackward0>)\n",
      "n_extremes size 14407\n",
      "4000th step, parameters are tensor([0.0777, 0.1283, 0.3224, 0.0706, 0.2968, 0.1324, 0.1630, 0.1287, 0.2736,\n",
      "        0.1740], grad_fn=<AddBackward0>)\n",
      "n_extremes size 14446\n",
      "4100th step, parameters are tensor([0.0812, 0.1248, 0.3223, 0.0692, 0.2906, 0.1271, 0.1549, 0.1236, 0.2691,\n",
      "        0.1752], grad_fn=<AddBackward0>)\n",
      "n_extremes size 14500\n",
      "4200th step, parameters are tensor([0.0855, 0.1212, 0.3170, 0.0682, 0.2872, 0.1200, 0.1454, 0.1198, 0.2575,\n",
      "        0.1753], grad_fn=<AddBackward0>)\n",
      "n_extremes size 14538\n",
      "4300th step, parameters are tensor([0.0894, 0.1178, 0.3093, 0.0681, 0.2874, 0.1134, 0.1389, 0.1215, 0.2407,\n",
      "        0.1731], grad_fn=<AddBackward0>)\n",
      "n_extremes size 14559\n",
      "4400th step, parameters are tensor([0.0928, 0.1146, 0.3015, 0.0691, 0.2901, 0.1086, 0.1342, 0.1283, 0.2221,\n",
      "        0.1698], grad_fn=<AddBackward0>)\n",
      "n_extremes size 14570\n",
      "4500th step, parameters are tensor([0.0962, 0.1113, 0.2933, 0.0705, 0.2916, 0.1038, 0.1304, 0.1315, 0.2045,\n",
      "        0.1680], grad_fn=<AddBackward0>)\n",
      "n_extremes size 14604\n",
      "4600th step, parameters are tensor([0.0997, 0.1072, 0.2837, 0.0720, 0.2898, 0.0986, 0.1271, 0.1263, 0.1884,\n",
      "        0.1687], grad_fn=<AddBackward0>)\n",
      "n_extremes size 14683\n",
      "4700th step, parameters are tensor([0.1027, 0.1026, 0.2723, 0.0744, 0.2865, 0.0937, 0.1247, 0.1208, 0.1754,\n",
      "        0.1697], grad_fn=<AddBackward0>)\n",
      "n_extremes size 14728\n",
      "4800th step, parameters are tensor([0.1047, 0.0983, 0.2596, 0.0774, 0.2839, 0.0895, 0.1240, 0.1180, 0.1667,\n",
      "        0.1680], grad_fn=<AddBackward0>)\n",
      "n_extremes size 14812\n",
      "4900th step, parameters are tensor([0.1065, 0.0946, 0.2485, 0.0795, 0.2810, 0.0857, 0.1233, 0.1163, 0.1574,\n",
      "        0.1663], grad_fn=<AddBackward0>)\n",
      "n_extremes size 14902\n",
      "5000th step, parameters are tensor([0.1080, 0.0915, 0.2400, 0.0811, 0.2778, 0.0818, 0.1210, 0.1147, 0.1469,\n",
      "        0.1647], grad_fn=<AddBackward0>)\n",
      "n_extremes size 14938\n",
      "5100th step, parameters are tensor([0.1068, 0.0896, 0.2328, 0.0828, 0.2775, 0.0787, 0.1177, 0.1127, 0.1372,\n",
      "        0.1563], grad_fn=<AddBackward0>)\n",
      "n_extremes size 14976\n",
      "5200th step, parameters are tensor([0.1054, 0.0881, 0.2291, 0.0856, 0.2754, 0.0750, 0.1133, 0.1128, 0.1281,\n",
      "        0.1488], grad_fn=<AddBackward0>)\n",
      "n_extremes size 14997\n",
      "5300th step, parameters are tensor([0.1066, 0.0865, 0.2293, 0.0892, 0.2682, 0.0716, 0.1098, 0.1156, 0.1199,\n",
      "        0.1511], grad_fn=<AddBackward0>)\n",
      "n_extremes size 15003\n",
      "5400th step, parameters are tensor([0.1093, 0.0845, 0.2316, 0.0924, 0.2580, 0.0704, 0.1077, 0.1210, 0.1133,\n",
      "        0.1614], grad_fn=<AddBackward0>)\n",
      "n_extremes size 15029\n",
      "5500th step, parameters are tensor([0.1112, 0.0833, 0.2335, 0.0962, 0.2491, 0.0687, 0.1066, 0.1279, 0.1067,\n",
      "        0.1690], grad_fn=<AddBackward0>)\n",
      "n_extremes size 15029\n",
      "5600th step, parameters are tensor([0.1123, 0.0825, 0.2342, 0.1001, 0.2428, 0.0667, 0.1053, 0.1309, 0.1003,\n",
      "        0.1716], grad_fn=<AddBackward0>)\n",
      "n_extremes size 15010\n",
      "5700th step, parameters are tensor([0.1130, 0.0817, 0.2360, 0.1034, 0.2389, 0.0669, 0.1041, 0.1264, 0.0945,\n",
      "        0.1723], grad_fn=<AddBackward0>)\n",
      "n_extremes size 14993\n",
      "5800th step, parameters are tensor([0.1136, 0.0817, 0.2383, 0.1086, 0.2365, 0.0660, 0.1057, 0.1206, 0.0896,\n",
      "        0.1693], grad_fn=<AddBackward0>)\n",
      "n_extremes size 14859\n",
      "5900th step, parameters are tensor([0.1130, 0.0850, 0.2397, 0.1203, 0.2375, 0.0687, 0.1174, 0.1169, 0.0898,\n",
      "        0.1598], grad_fn=<AddBackward0>)\n",
      "n_extremes size 14712\n",
      "6000th step, parameters are tensor([0.1100, 0.0891, 0.2405, 0.1330, 0.2423, 0.0781, 0.1317, 0.1143, 0.0938,\n",
      "        0.1577], grad_fn=<AddBackward0>)\n",
      "n_extremes size 14651\n",
      "6100th step, parameters are tensor([0.1084, 0.0907, 0.2380, 0.1413, 0.2486, 0.0866, 0.1353, 0.1101, 0.0994,\n",
      "        0.1532], grad_fn=<AddBackward0>)\n",
      "n_extremes size 14612\n",
      "6200th step, parameters are tensor([0.1095, 0.0904, 0.2325, 0.1441, 0.2546, 0.0934, 0.1308, 0.1055, 0.1023,\n",
      "        0.1433], grad_fn=<AddBackward0>)\n",
      "n_extremes size 14626\n",
      "6300th step, parameters are tensor([0.1084, 0.0890, 0.2249, 0.1431, 0.2657, 0.1078, 0.1264, 0.1030, 0.1010,\n",
      "        0.1360], grad_fn=<AddBackward0>)\n",
      "n_extremes size 14614\n",
      "6400th step, parameters are tensor([0.1036, 0.0885, 0.2202, 0.1395, 0.2822, 0.1296, 0.1224, 0.1042, 0.0969,\n",
      "        0.1339], grad_fn=<AddBackward0>)\n",
      "n_extremes size 14623\n",
      "6500th step, parameters are tensor([0.1002, 0.0900, 0.2173, 0.1321, 0.2959, 0.1460, 0.1198, 0.1049, 0.0985,\n",
      "        0.1288], grad_fn=<AddBackward0>)\n",
      "n_extremes size 14653\n",
      "6600th step, parameters are tensor([0.0985, 0.0929, 0.2148, 0.1237, 0.3060, 0.1569, 0.1180, 0.1040, 0.1025,\n",
      "        0.1224], grad_fn=<AddBackward0>)\n",
      "n_extremes size 14649\n",
      "6700th step, parameters are tensor([0.0984, 0.0967, 0.2131, 0.1156, 0.3124, 0.1625, 0.1164, 0.1025, 0.1080,\n",
      "        0.1163], grad_fn=<AddBackward0>)\n",
      "n_extremes size 14636\n",
      "6800th step, parameters are tensor([0.0992, 0.1015, 0.2132, 0.1085, 0.3159, 0.1637, 0.1138, 0.1017, 0.1159,\n",
      "        0.1114], grad_fn=<AddBackward0>)\n",
      "n_extremes size 14560\n",
      "6900th step, parameters are tensor([0.1011, 0.1080, 0.2177, 0.1034, 0.3167, 0.1609, 0.1089, 0.1028, 0.1308,\n",
      "        0.1079], grad_fn=<AddBackward0>)\n",
      "n_extremes size 14437\n",
      "7000th step, parameters are tensor([0.1046, 0.1170, 0.2295, 0.1022, 0.3135, 0.1532, 0.1035, 0.1045, 0.1590,\n",
      "        0.1062], grad_fn=<AddBackward0>)\n",
      "n_extremes size 14262\n",
      "7100th step, parameters are tensor([0.1085, 0.1276, 0.2463, 0.1040, 0.3079, 0.1437, 0.1009, 0.1066, 0.1967,\n",
      "        0.1054], grad_fn=<AddBackward0>)\n",
      "n_extremes size 14041\n",
      "7200th step, parameters are tensor([0.1120, 0.1395, 0.2695, 0.1080, 0.2999, 0.1360, 0.1028, 0.1111, 0.2444,\n",
      "        0.1049], grad_fn=<AddBackward0>)\n",
      "n_extremes size 13850\n",
      "7300th step, parameters are tensor([0.1126, 0.1512, 0.2961, 0.1139, 0.2869, 0.1352, 0.1125, 0.1097, 0.2968,\n",
      "        0.1024], grad_fn=<AddBackward0>)\n",
      "n_extremes size 13700\n",
      "7400th step, parameters are tensor([0.1081, 0.1595, 0.3277, 0.1191, 0.2688, 0.1438, 0.1415, 0.1188, 0.3503,\n",
      "        0.0985], grad_fn=<AddBackward0>)\n"
     ]
    },
    {
     "ename": "KeyboardInterrupt",
     "evalue": "",
     "output_type": "error",
     "traceback": [
      "\u001b[0;31m---------------------------------------------------------------------------\u001b[0m",
      "\u001b[0;31mKeyboardInterrupt\u001b[0m                         Traceback (most recent call last)",
      "\u001b[0;32m/tmp/ipykernel_3335267/1159855017.py\u001b[0m in \u001b[0;36m<module>\u001b[0;34m\u001b[0m\n\u001b[1;32m     98\u001b[0m     \u001b[0mD_loss\u001b[0m \u001b[0;34m=\u001b[0m \u001b[0;34m-\u001b[0m \u001b[0mtorch\u001b[0m\u001b[0;34m.\u001b[0m\u001b[0mmean\u001b[0m\u001b[0;34m(\u001b[0m\u001b[0mtorch\u001b[0m\u001b[0;34m.\u001b[0m\u001b[0mlog\u001b[0m\u001b[0;34m(\u001b[0m\u001b[0mprob_R\u001b[0m\u001b[0;34m)\u001b[0m \u001b[0;34m+\u001b[0m \u001b[0mtorch\u001b[0m\u001b[0;34m.\u001b[0m\u001b[0mlog\u001b[0m\u001b[0;34m(\u001b[0m\u001b[0;36m1.\u001b[0m \u001b[0;34m-\u001b[0m \u001b[0mprob_G\u001b[0m\u001b[0;34m)\u001b[0m\u001b[0;34m)\u001b[0m\u001b[0;34m\u001b[0m\u001b[0;34m\u001b[0m\u001b[0m\n\u001b[1;32m     99\u001b[0m     \u001b[0mopt_D\u001b[0m\u001b[0;34m.\u001b[0m\u001b[0mzero_grad\u001b[0m\u001b[0;34m(\u001b[0m\u001b[0;34m)\u001b[0m\u001b[0;34m\u001b[0m\u001b[0;34m\u001b[0m\u001b[0m\n\u001b[0;32m--> 100\u001b[0;31m     \u001b[0mD_loss\u001b[0m\u001b[0;34m.\u001b[0m\u001b[0mbackward\u001b[0m\u001b[0;34m(\u001b[0m\u001b[0mretain_graph\u001b[0m\u001b[0;34m=\u001b[0m\u001b[0;32mTrue\u001b[0m\u001b[0;34m)\u001b[0m      \u001b[0;31m# reusing computational graph\u001b[0m\u001b[0;34m\u001b[0m\u001b[0;34m\u001b[0m\u001b[0m\n\u001b[0m\u001b[1;32m    101\u001b[0m     \u001b[0mopt_D\u001b[0m\u001b[0;34m.\u001b[0m\u001b[0mstep\u001b[0m\u001b[0;34m(\u001b[0m\u001b[0;34m)\u001b[0m\u001b[0;34m\u001b[0m\u001b[0;34m\u001b[0m\u001b[0m\n\u001b[1;32m    102\u001b[0m \u001b[0;34m\u001b[0m\u001b[0m\n",
      "\u001b[0;32m~/miniconda3/lib/python3.8/site-packages/torch/tensor.py\u001b[0m in \u001b[0;36mbackward\u001b[0;34m(self, gradient, retain_graph, create_graph)\u001b[0m\n\u001b[1;32m    193\u001b[0m                 \u001b[0mproducts\u001b[0m\u001b[0;34m.\u001b[0m \u001b[0mDefaults\u001b[0m \u001b[0mto\u001b[0m\u001b[0;31m \u001b[0m\u001b[0;31m`\u001b[0m\u001b[0;31m`\u001b[0m\u001b[0;32mFalse\u001b[0m\u001b[0;31m`\u001b[0m\u001b[0;31m`\u001b[0m\u001b[0;34m.\u001b[0m\u001b[0;34m\u001b[0m\u001b[0;34m\u001b[0m\u001b[0m\n\u001b[1;32m    194\u001b[0m         \"\"\"\n\u001b[0;32m--> 195\u001b[0;31m         \u001b[0mtorch\u001b[0m\u001b[0;34m.\u001b[0m\u001b[0mautograd\u001b[0m\u001b[0;34m.\u001b[0m\u001b[0mbackward\u001b[0m\u001b[0;34m(\u001b[0m\u001b[0mself\u001b[0m\u001b[0;34m,\u001b[0m \u001b[0mgradient\u001b[0m\u001b[0;34m,\u001b[0m \u001b[0mretain_graph\u001b[0m\u001b[0;34m,\u001b[0m \u001b[0mcreate_graph\u001b[0m\u001b[0;34m)\u001b[0m\u001b[0;34m\u001b[0m\u001b[0;34m\u001b[0m\u001b[0m\n\u001b[0m\u001b[1;32m    196\u001b[0m \u001b[0;34m\u001b[0m\u001b[0m\n\u001b[1;32m    197\u001b[0m     \u001b[0;32mdef\u001b[0m \u001b[0mregister_hook\u001b[0m\u001b[0;34m(\u001b[0m\u001b[0mself\u001b[0m\u001b[0;34m,\u001b[0m \u001b[0mhook\u001b[0m\u001b[0;34m)\u001b[0m\u001b[0;34m:\u001b[0m\u001b[0;34m\u001b[0m\u001b[0;34m\u001b[0m\u001b[0m\n",
      "\u001b[0;32m~/miniconda3/lib/python3.8/site-packages/torch/autograd/__init__.py\u001b[0m in \u001b[0;36mbackward\u001b[0;34m(tensors, grad_tensors, retain_graph, create_graph, grad_variables)\u001b[0m\n\u001b[1;32m     95\u001b[0m         \u001b[0mretain_graph\u001b[0m \u001b[0;34m=\u001b[0m \u001b[0mcreate_graph\u001b[0m\u001b[0;34m\u001b[0m\u001b[0;34m\u001b[0m\u001b[0m\n\u001b[1;32m     96\u001b[0m \u001b[0;34m\u001b[0m\u001b[0m\n\u001b[0;32m---> 97\u001b[0;31m     Variable._execution_engine.run_backward(\n\u001b[0m\u001b[1;32m     98\u001b[0m         \u001b[0mtensors\u001b[0m\u001b[0;34m,\u001b[0m \u001b[0mgrad_tensors\u001b[0m\u001b[0;34m,\u001b[0m \u001b[0mretain_graph\u001b[0m\u001b[0;34m,\u001b[0m \u001b[0mcreate_graph\u001b[0m\u001b[0;34m,\u001b[0m\u001b[0;34m\u001b[0m\u001b[0;34m\u001b[0m\u001b[0m\n\u001b[1;32m     99\u001b[0m         allow_unreachable=True)  # allow_unreachable flag\n",
      "\u001b[0;31mKeyboardInterrupt\u001b[0m: "
     ]
    }
   ],
   "source": [
    "# initialize\n",
    "\n",
    "# agg_list = []\n",
    "\n",
    "# for i, input_ in enumerate(train_dataloader):\n",
    "#     agg_list.append(A(input_))\n",
    "    \n",
    "paras = torch.ones(2*o_dim)\n",
    "e = torch.distributions.exponential.Exponential(torch.ones(o_dim))\n",
    "print(paras)\n",
    "\n",
    "n_extremes_list = []\n",
    "acc_list = []\n",
    "\n",
    "for step in range(n_steps):\n",
    "    input_ = next(iter(train_dataloader))\n",
    "    paras_val = A(input_)\n",
    "    paras_incre = torch.mean(torch.abs(paras_val),dim=0)\n",
    "#     print(paras_incre.size())\n",
    "    ratio = batch_size*1.0/n_samples\n",
    "    paras = (1 - ratio) * paras + ratio * paras_incre\n",
    "    \n",
    "    u = paras[0:o_dim] + 2\n",
    "    sigma = paras[o_dim:] + 0.05\n",
    "#     print(paras)\n",
    "#     print(u)\n",
    "#     print(sigma)\n",
    "    \n",
    "    extreme_samples = pick_samples(samples, u) - u\n",
    "    \n",
    "#     print('extreme_samples', extreme_samples.size())\n",
    "    \n",
    "    n_extremes = len(extreme_samples)\n",
    "    \n",
    "    n_extremes_list.append(n_extremes)\n",
    "    \n",
    "#     print('n_extremes size', n_extremes)\n",
    "    \n",
    "    G_noise = torch.randn(n_extremes, i_dim, requires_grad=True)\n",
    "    G_samples = G(G_noise)\n",
    "    \n",
    "#     print('G_samples', G_samples.size())\n",
    "    \n",
    "    \n",
    "    max_value, _ = torch.max(G_samples, dim=1)\n",
    "    \n",
    "#     print(torch.max(G_samples, dim=1))\n",
    "    max_value = max_value.unsqueeze(-1)\n",
    "    \n",
    "#     print('G_samples', G_samples.size())\n",
    "#     print('max_value', max_value.size())\n",
    "    \n",
    "\n",
    "    \n",
    "    G_samples = G_samples - max_value\n",
    "    \n",
    "#     print('G_samples', G_samples.size())\n",
    "    \n",
    "#     print(torch.topk(-G_samples, o_dim, dim=1))\n",
    "\n",
    "#     G_samples = G_samples[:,:o_dim]\n",
    "    \n",
    "#     G_samples = -torch.topk(-G_samples, o_dim, dim=1).values\n",
    "    \n",
    "#     print('G_samples', G_samples.size())\n",
    "#     print(G_samples)\n",
    "\n",
    "    \n",
    "    e_samples = e.rsample([len(G_samples)])\n",
    "    \n",
    "#     print('e_samples', e_samples.size())\n",
    "#     for i in range(len(G_samples)):\n",
    "#         e_samples.append(e.sample())\n",
    "        \n",
    "    \n",
    "#     e_samples = torch.stack(e_samples)\n",
    "        \n",
    "        \n",
    "#     # TODO    \n",
    "#     #e_samples = \n",
    "    \n",
    "    G_extrems = sigma * (G_samples + e_samples)\n",
    "    \n",
    "#     print('G_extrems', G_extrems.size())\n",
    "    \n",
    "    prob_G_extrems = D(G_extrems)\n",
    "    G_loss = torch.mean(torch.log(1. - prob_G_extrems)) + alpha * torch.norm(u)\n",
    "    opt_G.zero_grad()\n",
    "    opt_A.zero_grad()\n",
    "    G_loss.backward(retain_graph=True)\n",
    "    opt_G.step()\n",
    "    opt_A.step()\n",
    "    \n",
    "    \n",
    "    \n",
    "    prob_R = D(extreme_samples)\n",
    "    prob_G = D(G_extrems.detach()) \n",
    "    D_loss = - torch.mean(torch.log(prob_R) + torch.log(1. - prob_G))\n",
    "    opt_D.zero_grad()\n",
    "    D_loss.backward(retain_graph=True)      # reusing computational graph\n",
    "    opt_D.step()\n",
    "        \n",
    "    \n",
    "    n_correct = torch.sum(prob_R >= 0.5) + torch.sum(prob_G < 0.5)\n",
    "    acc = n_correct *1.0 / (2 * n_extremes)\n",
    "    \n",
    "    acc_list.append(acc)\n",
    "    \n",
    "    if step%100==0:\n",
    "        print('n_extremes size', n_extremes)\n",
    "        print('{}th step, parameters are {}'.format(step, paras))\n",
    "\n",
    "    \n",
    "    \n",
    "#     prob_artist0 = D(artist_paintings)          # D try to increase this prob\n",
    "#     prob_artist1 = D(G_paintings.detach())  # D try to reduce this prob\n",
    "#     D_loss = - torch.mean(torch.log(prob_artist0) + torch.log(1. - prob_artist1))\n",
    "#     opt_D.zero_grad()\n",
    "#     D_loss.backward(retain_graph=True)      # reusing computational graph\n",
    "#     opt_D.step()\n",
    "    \n",
    "\n"
   ]
  },
  {
   "cell_type": "code",
   "execution_count": 14,
   "id": "e73bd5e5-d5e4-46fc-9922-5978157c418c",
   "metadata": {},
   "outputs": [
    {
     "data": {
      "image/png": "[encoded data removed]",
      "text/plain": [
       "<Figure size 432x288 with 1 Axes>"
      ]
     },
     "metadata": {
      "needs_background": "light"
     },
     "output_type": "display_data"
    }
   ],
   "source": [
    "plt.plot(n_extremes_list)\n",
    "plt.show()"
   ]
  },
  {
   "cell_type": "code",
   "execution_count": 15,
   "id": "c203850d-8fcc-4b9d-8e9d-116ccbf7ba6d",
   "metadata": {},
   "outputs": [
    {
     "data": {
      "image/png": "[encoded data removed]",
      "text/plain": [
       "<Figure size 432x288 with 1 Axes>"
      ]
     },
     "metadata": {
      "needs_background": "light"
     },
     "output_type": "display_data"
    }
   ],
   "source": [
    "plt.plot(acc_list)\n",
    "plt.show()"
   ]
  },
  {
   "cell_type": "code",
   "execution_count": 16,
   "id": "f8c2a035-c122-49d3-b9d1-e88fa69c9e6e",
   "metadata": {},
   "outputs": [
    {
     "name": "stdout",
     "output_type": "stream",
     "text": [
      "1340\n"
     ]
    }
   ],
   "source": [
    "print(min(n_extremes_list))"
   ]
  },
  {
   "cell_type": "code",
   "execution_count": 17,
   "id": "f66e2f8e-0409-4a3d-bcb2-2567b58c410f",
   "metadata": {},
   "outputs": [
    {
     "name": "stdout",
     "output_type": "stream",
     "text": [
      "tensor(0.9369)\n"
     ]
    }
   ],
   "source": [
    "print(max(acc_list))"
   ]
  }
 ],
 "metadata": {
  "kernelspec": {
   "display_name": "Python 3 (ipykernel)",
   "language": "python",
   "name": "python3"
  },
  "language_info": {
   "codemirror_mode": {
    "name": "ipython",
    "version": 3
   },
   "file_extension": ".py",
   "mimetype": "text/x-python",
   "name": "python",
   "nbconvert_exporter": "python",
   "pygments_lexer": "ipython3",
   "version": "3.8.12"
  }
 },
 "nbformat": 4,
 "nbformat_minor": 5
}
